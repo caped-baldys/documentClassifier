{
 "cells": [
  {
   "cell_type": "code",
   "execution_count": 357,
   "id": "744ceb24-ce2d-49d7-8e48-af855d4c0d95",
   "metadata": {},
   "outputs": [],
   "source": [
    "#importing the libraries\n",
    "import pickle\n",
    "from itertools import chain\n",
    "import pandas as pd\n",
    "import nltk\n",
    "from nltk.tokenize import word_tokenize\n",
    "from nltk.stem import WordNetLemmatizer\n",
    "from nltk.corpus import stopwords\n",
    "import string\n",
    "from nltk.corpus import wordnet\n",
    "import matplotlib.pyplot as plt\n",
    "import joblib\n",
    "from sklearn.model_selection import train_test_split\n",
    "from imblearn.over_sampling import SMOTE\n",
    "from sklearn.ensemble import RandomForestClassifier\n",
    "from sklearn import preprocessing\n",
    "from sklearn.metrics import classification_report, confusion_matrix, accuracy_score\n",
    "import pickle\n",
    "import requests\n",
    "import json\n",
    "from sklearn.naive_bayes import MultinomialNB\n",
    "from xgboost import XGBClassifier\n",
    "from sklearn.linear_model import LogisticRegression\n",
    "from sklearn.svm import SVC\n",
    "from sklearn.linear_model import SGDClassifier\n",
    "\n",
    "\n"
   ]
  },
  {
   "cell_type": "markdown",
   "id": "fb577a59-8ec0-40c7-9a37-cf3e259b12e8",
   "metadata": {},
   "source": [
    "LOADING PREPROCESSED TEXT\n"
   ]
  },
  {
   "cell_type": "code",
   "execution_count": 221,
   "id": "650dbbaa-15aa-46fc-9f6a-60cd55fa001e",
   "metadata": {},
   "outputs": [],
   "source": [
    "pickle_file_path = 'saved_spell_corrected_data_dictionary.pkl'\n",
    "\n",
    "# Load the pickle file\n",
    "with open(pickle_file_path, 'rb') as file:\n",
    "    data_dict = pickle.load(file)"
   ]
  },
  {
   "cell_type": "markdown",
   "id": "492c0257-b0a7-44cc-94f9-8e12a9b57d24",
   "metadata": {},
   "source": [
    "Here now we have the data in form of dictionary where key is tag and values are list of texts\n"
   ]
  },
  {
   "cell_type": "code",
   "execution_count": 222,
   "id": "b94210bb-7ad0-48f2-a312-538a44cee9b7",
   "metadata": {},
   "outputs": [],
   "source": [
    "# Flatten the dictionary into lists of tags and texts\n",
    "tags = list(chain.from_iterable([[tag]*len(texts) for tag, texts in data_dict.items()]))\n",
    "texts = list(chain.from_iterable([texts for texts in data_dict.values()]))"
   ]
  },
  {
   "cell_type": "code",
   "execution_count": 223,
   "id": "78c071fd-2fa5-45ad-ba5d-a01d667804ca",
   "metadata": {},
   "outputs": [],
   "source": [
    "df = pd.DataFrame(list(zip(tags,texts)), columns=[\"tags\",\"texts\"])"
   ]
  },
  {
   "cell_type": "code",
   "execution_count": 225,
   "id": "5d167878-6670-4ad2-89d4-a71fd5956f8b",
   "metadata": {},
   "outputs": [
    {
     "data": {
      "text/plain": [
       "array(['HUDD', 'BASD', 'PSGT', 'DRRF', 'PTRD', 'SSNN', 'MOGD', 'APPR',\n",
       "       'DBCK', 'CLDC', 'PWAT', 'PPRD', 'DOFA', 'POFL', 'REST', 'DTRV',\n",
       "       'DAOG', 'CPRS', 'ENRE', 'PASA', 'LRAG', 'VROD', 'TCPL', 'CTOS',\n",
       "       'PUDR', 'DOPR', 'SCOW', 'DSPS', 'MDWE', 'DFCR', 'DDLR', 'SEMR',\n",
       "       'DPMQ', 'DMRT', 'ANUT', 'LNMD', 'PRRS', 'QCDE', 'DPGR', 'SHGR',\n",
       "       'DPLR', 'SPTP', 'MSLG', 'DDDC', 'REBD', 'AMTT', 'DATP', 'LNAP',\n",
       "       'DOPA', 'DEIN', 'CLST', 'AVMM', 'IBST', 'PCAD', 'DCCM', 'WRDE',\n",
       "       'TBAS', 'GUAR', 'CDAA', 'DCRR', 'DRLC', 'ALRT', 'CLPK', 'COGS',\n",
       "       'CFOF', 'PRET', 'PSPT', 'LW9F', 'DRPV', 'VOIC', 'LNDB', 'TCUW',\n",
       "       'EXTN', 'TPMT', 'DEOI', 'ESLT', 'BPOO', 'NOTE', 'PFST', 'DCCQ',\n",
       "       'DLAG', 'FTPO', 'VPOS', 'DFDC', 'LCIL', 'AENT', 'DBPA', 'NODC',\n",
       "       'KIRA', 'ACHF', 'GRDE', 'FERE', 'VMPL', 'APML', 'DFLI', 'PRCT'],\n",
       "      dtype=object)"
      ]
     },
     "execution_count": 225,
     "metadata": {},
     "output_type": "execute_result"
    }
   ],
   "source": [
    "df[\"tags\"].unique()"
   ]
  },
  {
   "cell_type": "code",
   "execution_count": 226,
   "id": "0fc2b1c0-add3-490b-84ca-85385f024823",
   "metadata": {},
   "outputs": [
    {
     "data": {
      "text/plain": [
       "'texas american title company west loop south suite houston borrowers closing statement date new loans noble mortgage investments borrower team properties houston property north hill spring blk enchanted oaks sec credits description amount new loan principal loan amount noble mortgage investments total credits charges description amount purchase price contract sales price portions other debuts all taxes hour additional charges rollback repairs noble mortgage investments new loan fees loan originating fee noble mortgage investments appraisal fee bryan lever document preparation adam bing processing fee noble mortgage investments flood cert fee noble mortgage investments homeowners insurance months maxim insurance flood ins premium months maxim insurance poc title charges lenders coverage texas american title company pattern law firm endorsement texas american title company pattern law firm escort fee pattern law firm electronic delivery handling fee recording pattern law firm guarantee assessment recoupment charge lender tatcofb recording transfer charges recording fees deed recording fees release recording fees mortgage assignments leases rents pattern law firm ucc recording fee pattern law firm collateral pattern law firm additional settlement fees hoa transfer fee ami elevation cert copperfield land surveying signing services aphia rises total charges cash borrower borrower understands closing escort agent assembled information representing transaction best information available sources cannot guarantee accuracy thereof borrower understands tax insurance reserves based figures preceding year supplied others estimated current year the undermined hereby authorizes texas american title company make expenditures disbursements shown approves payment the undermined also acknowledges receipt copy statement team properties houston closing escort agent evan hopper'"
      ]
     },
     "execution_count": 226,
     "metadata": {},
     "output_type": "execute_result"
    }
   ],
   "source": [
    "df[\"texts\"][1]"
   ]
  },
  {
   "cell_type": "code",
   "execution_count": 227,
   "id": "e4809e6d-9398-4e5f-b370-4825737530ee",
   "metadata": {},
   "outputs": [
    {
     "name": "stderr",
     "output_type": "stream",
     "text": [
      "[nltk_data] Downloading package punkt to\n",
      "[nltk_data]     C:\\Users\\parya\\AppData\\Roaming\\nltk_data...\n",
      "[nltk_data]   Package punkt is already up-to-date!\n",
      "[nltk_data] Downloading package wordnet to\n",
      "[nltk_data]     C:\\Users\\parya\\AppData\\Roaming\\nltk_data...\n",
      "[nltk_data]   Package wordnet is already up-to-date!\n",
      "[nltk_data] Downloading package stopwords to\n",
      "[nltk_data]     C:\\Users\\parya\\AppData\\Roaming\\nltk_data...\n",
      "[nltk_data]   Package stopwords is already up-to-date!\n"
     ]
    },
    {
     "data": {
      "text/plain": [
       "True"
      ]
     },
     "execution_count": 227,
     "metadata": {},
     "output_type": "execute_result"
    }
   ],
   "source": [
    "nltk.download('punkt')\n",
    "nltk.download('wordnet')\n",
    "nltk.download('stopwords')"
   ]
  },
  {
   "cell_type": "code",
   "execution_count": 228,
   "id": "dffd6f7a-7873-4e00-9937-40ad4ac78322",
   "metadata": {},
   "outputs": [],
   "source": [
    "def get_wordnet_pos(tag):\n",
    "    if tag.startswith('J'):\n",
    "        return wordnet.ADJ\n",
    "    elif tag.startswith('V'):\n",
    "        return wordnet.VERB\n",
    "    elif tag.startswith('N'):\n",
    "        return wordnet.NOUN\n",
    "    elif tag.startswith('R'):\n",
    "        return wordnet.ADV\n",
    "    else:\n",
    "        return wordnet.NOUN\n"
   ]
  },
  {
   "cell_type": "code",
   "execution_count": 229,
   "id": "c95fdae6-b881-499c-9119-8a08d4d26007",
   "metadata": {},
   "outputs": [],
   "source": [
    "def tokenize_and_lemmatize(text):\n",
    "    # Tokenize text into words\n",
    "    tokens = word_tokenize(text)\n",
    "    \n",
    "    # POS tagging\n",
    "    pos_tags = nltk.pos_tag(tokens)\n",
    "    \n",
    "    # Initialize lemmatizer\n",
    "    lemmatizer = WordNetLemmatizer()\n",
    "    \n",
    "    # Lemmatize tokens with POS tagging\n",
    "    lemmatized_tokens = [lemmatizer.lemmatize(token.lower(), get_wordnet_pos(tag)) for token, tag in pos_tags if token.isalpha()]\n",
    "    \n",
    "    # Remove stopwords and punctuation\n",
    "    stop_words = set(stopwords.words('english'))\n",
    "    lemmatized_tokens = [token for token in lemmatized_tokens if token not in stop_words and token not in string.punctuation]\n",
    "    \n",
    "    return lemmatized_tokens"
   ]
  },
  {
   "cell_type": "code",
   "execution_count": 230,
   "id": "d06cd073-6c60-4961-aa3f-577f118b69f4",
   "metadata": {},
   "outputs": [],
   "source": [
    "df[\"texts\"] = df[\"texts\"].apply(tokenize_and_lemmatize)"
   ]
  },
  {
   "cell_type": "markdown",
   "id": "f7bc76f7-526d-4cbe-876d-22913788c1d8",
   "metadata": {},
   "source": [
    "We have applied pos_tag before lemmetization to get more accurate and proper lemmetized texts\n"
   ]
  },
  {
   "cell_type": "code",
   "execution_count": 317,
   "id": "f8b7bd09-cc13-45a6-957f-df991a1bbfd4",
   "metadata": {},
   "outputs": [
    {
     "data": {
      "text/plain": [
       "0       [old, republic, title, company, member, old, r...\n",
       "1       [texas, american, title, company, west, loop, ...\n",
       "2       [texas, american, title, company, west, loop, ...\n",
       "3       [settlement, statement, omb, approval, optiona...\n",
       "4       [omb, approval, final, settlement, statement, ...\n",
       "                              ...                        \n",
       "5226    [dotloop, signature, verification, dtlpuskufrp...\n",
       "5227    [dotloop, signature, verification, dip, extens...\n",
       "5228    [contract, purchase, real, estate, goldstein, ...\n",
       "5229    [focus, envelope, purchase, sale, agreement, j...\n",
       "5230    [jakubowski, robertson, maffei, goldsmith, tar...\n",
       "Name: texts, Length: 5231, dtype: object"
      ]
     },
     "execution_count": 317,
     "metadata": {},
     "output_type": "execute_result"
    }
   ],
   "source": [
    "df[\"texts\"]"
   ]
  },
  {
   "cell_type": "code",
   "execution_count": 232,
   "id": "f6e4ae37-e981-44ec-a29d-1907db24b22c",
   "metadata": {},
   "outputs": [],
   "source": [
    "#checking the proportion of each tag in the data\n",
    "tag_counts = df[\"tags\"].value_counts()"
   ]
  },
  {
   "cell_type": "code",
   "execution_count": 233,
   "id": "3eda2961-3b9a-49b3-a79a-4849fa78180a",
   "metadata": {},
   "outputs": [
    {
     "data": {
      "image/png": "[encoded data removed]",
      "text/plain": [
       "<Figure size 1700x800 with 1 Axes>"
      ]
     },
     "metadata": {},
     "output_type": "display_data"
    }
   ],
   "source": [
    "# Plot the distribution\n",
    "plt.figure(figsize=(17, 8))\n",
    "tag_counts.plot(kind='bar')\n",
    "plt.title('Tag Distribution')\n",
    "plt.xlabel('Tags')\n",
    "plt.ylabel('Frequency')\n",
    "plt.show()\n"
   ]
  },
  {
   "cell_type": "markdown",
   "id": "87b0bc9f-0455-4886-99a3-05aabf9b243a",
   "metadata": {},
   "source": [
    "we have imbalance data so now we will apply some balancing techniques over it , mainly the oversampling technique\n"
   ]
  },
  {
   "cell_type": "code",
   "execution_count": 234,
   "id": "04eb27c5-c8d7-489a-9351-2afd1a45169b",
   "metadata": {},
   "outputs": [],
   "source": [
    "#divide the data in to X and Y \n",
    "# Assuming 'X' contains all feature columns and 'tags' that is the Y is the target column\n",
    "X = df[\"texts\"].apply(lambda x: ' '.join(x))\n",
    "y = df['tags']"
   ]
  },
  {
   "cell_type": "code",
   "execution_count": 322,
   "id": "95bffd96-4ffa-4afb-a8b5-2e1a5afedc76",
   "metadata": {},
   "outputs": [
    {
     "data": {
      "text/plain": [
       "0       old republic title company member old republic...\n",
       "1       texas american title company west loop south s...\n",
       "2       texas american title company west loop south s...\n",
       "3       settlement statement omb approval optional for...\n",
       "4       omb approval final settlement statement servic...\n",
       "                              ...                        \n",
       "5226    dotloop signature verification dtlpuskufrpiwo ...\n",
       "5227    dotloop signature verification dip extension a...\n",
       "5228    contract purchase real estate goldstein group ...\n",
       "5229    focus envelope purchase sale agreement joint e...\n",
       "5230    jakubowski robertson maffei goldsmith tartagli...\n",
       "Name: texts, Length: 5231, dtype: object"
      ]
     },
     "execution_count": 322,
     "metadata": {},
     "output_type": "execute_result"
    }
   ],
   "source": [
    "X"
   ]
  },
  {
   "cell_type": "markdown",
   "id": "21c0dd55-b8b5-4a30-8a04-ce5957305416",
   "metadata": {},
   "source": [
    "Convert the text to numerical representation for machine learning algo to process\n"
   ]
  },
  {
   "cell_type": "code",
   "execution_count": 235,
   "id": "45fbcebd-f7da-412c-b653-17a711800dce",
   "metadata": {},
   "outputs": [
    {
     "name": "stdout",
     "output_type": "stream",
     "text": [
      "Shape of X_vectorized: (5231, 1000)\n",
      "Shape of y_encoded: (5231,)\n"
     ]
    }
   ],
   "source": [
    "# Step 1: Vectorize the text data (X) using TF-IDF\n",
    "tfidfconverter = TfidfVectorizer(max_features=1000)\n",
    "X_vectorized = tfidfconverter.fit_transform(X).toarray() \n",
    "\n",
    "# Step 2: Encode the labels (y) using LabelEncoder\n",
    "labelencoder = LabelEncoder()\n",
    "y_encoded = labelencoder.fit_transform(y)\n",
    "\n",
    "# Step 3: Check shapes to diagnose any issues\n",
    "print(\"Shape of X_vectorized:\", X_vectorized.shape)\n",
    "print(\"Shape of y_encoded:\", y_encoded.shape)\n",
    "\n",
    "# Step 4: Ensure consistency using check_X_y (optional, but good practice)\n",
    "X_vectorized, y_encoded = check_X_y(X_vectorized, y_encoded)\n"
   ]
  },
  {
   "cell_type": "code",
   "execution_count": 236,
   "id": "b1c5ee8c-868c-4ee0-b941-fd7c620c5d8c",
   "metadata": {},
   "outputs": [
    {
     "data": {
      "text/plain": [
       "['tfidf_vectorizer.pkl']"
      ]
     },
     "execution_count": 236,
     "metadata": {},
     "output_type": "execute_result"
    }
   ],
   "source": [
    "# Saving the vectorizer to disk\n",
    "joblib.dump(tfidfconverter, 'tfidf_vectorizer.pkl')"
   ]
  },
  {
   "cell_type": "code",
   "execution_count": 237,
   "id": "02e579ec-dacc-463b-bec8-05aa23881a81",
   "metadata": {},
   "outputs": [],
   "source": [
    "# Using Smote for upsampling the minority classes\n",
    "smote = SMOTE(random_state=42)\n",
    "X_train_resampled, y_train_resampled = smote.fit_resample(X_vectorized, y_encoded)"
   ]
  },
  {
   "cell_type": "code",
   "execution_count": 238,
   "id": "ec1950d2-1264-4e5c-81b6-04847dbfb573",
   "metadata": {},
   "outputs": [
    {
     "data": {
      "image/png": "[encoded data removed]",
      "text/plain": [
       "<Figure size 1700x800 with 1 Axes>"
      ]
     },
     "metadata": {},
     "output_type": "display_data"
    }
   ],
   "source": [
    "# Count the occurrences of each tag in the resampled dataset\n",
    "tag_counts_resampled = pd.Series(y_train_resampled).value_counts()\n",
    "\n",
    "# Plot the distribution\n",
    "plt.figure(figsize=(17, 8))\n",
    "tag_counts_resampled.plot(kind='bar')\n",
    "plt.title('Tag Distribution After SMOTE Resampling')\n",
    "plt.xlabel('Tags')\n",
    "plt.ylabel('Frequency')\n",
    "plt.show()\n"
   ]
  },
  {
   "cell_type": "code",
   "execution_count": 239,
   "id": "420d45ee-ad7e-4631-930a-fbd1fd15b24c",
   "metadata": {},
   "outputs": [],
   "source": [
    "#Split the balanced data into test and train\n",
    "X_train, X_test, y_train, y_test = train_test_split(X_train_resampled, y_train_resampled, test_size=0.2, random_state=42)"
   ]
  },
  {
   "cell_type": "markdown",
   "id": "209b82b9-e8af-45f4-87d0-164110e9d67f",
   "metadata": {},
   "source": [
    "Random Forests\n"
   ]
  },
  {
   "cell_type": "code",
   "execution_count": 240,
   "id": "f3d38dcf-29ed-43d7-967f-de1441504fcc",
   "metadata": {},
   "outputs": [
    {
     "name": "stdout",
     "output_type": "stream",
     "text": [
      "Accuracy: 0.9583333333333334\n",
      "              precision    recall  f1-score   support\n",
      "\n",
      "        HUDD       1.00      1.00      1.00        26\n",
      "        BASD       1.00      1.00      1.00        21\n",
      "        PSGT       0.93      0.93      0.93        15\n",
      "        DRRF       0.94      1.00      0.97        17\n",
      "        PTRD       0.75      0.80      0.77        15\n",
      "        SSNN       0.95      1.00      0.98        20\n",
      "        MOGD       1.00      1.00      1.00        18\n",
      "        APPR       1.00      1.00      1.00        20\n",
      "        DBCK       1.00      0.93      0.96        14\n",
      "        CLDC       1.00      1.00      1.00        21\n",
      "        PWAT       0.96      1.00      0.98        24\n",
      "        PPRD       1.00      0.96      0.98        23\n",
      "        DOFA       1.00      1.00      1.00        20\n",
      "        POFL       0.89      0.94      0.91        17\n",
      "        REST       1.00      1.00      1.00        15\n",
      "        DTRV       0.95      0.95      0.95        20\n",
      "        DAOG       0.95      1.00      0.97        18\n",
      "        CPRS       0.84      0.84      0.84        19\n",
      "        ENRE       0.94      1.00      0.97        17\n",
      "        PASA       1.00      1.00      1.00        25\n",
      "        LRAG       0.96      1.00      0.98        23\n",
      "        VROD       1.00      1.00      1.00        18\n",
      "        TCPL       0.95      0.95      0.95        21\n",
      "        CTOS       1.00      0.96      0.98        24\n",
      "        PUDR       1.00      0.96      0.98        23\n",
      "        DOPR       1.00      0.95      0.97        19\n",
      "        SCOW       1.00      1.00      1.00        23\n",
      "        DSPS       1.00      1.00      1.00        23\n",
      "        MDWE       0.96      0.96      0.96        24\n",
      "        DFCR       1.00      0.95      0.98        22\n",
      "        DDLR       1.00      1.00      1.00        30\n",
      "        SEMR       0.95      1.00      0.98        20\n",
      "        DPMQ       1.00      1.00      1.00        15\n",
      "        DMRT       0.94      0.83      0.88        18\n",
      "        ANUT       1.00      1.00      1.00        23\n",
      "        LNMD       1.00      0.94      0.97        17\n",
      "        PRRS       1.00      0.96      0.98        23\n",
      "        QCDE       0.95      0.95      0.95        22\n",
      "        DPGR       0.95      0.95      0.95        21\n",
      "        SHGR       1.00      1.00      1.00        19\n",
      "        DPLR       0.77      0.94      0.85        18\n",
      "        SPTP       1.00      0.88      0.93        16\n",
      "        MSLG       1.00      0.93      0.97        15\n",
      "        DDDC       1.00      1.00      1.00        16\n",
      "        REBD       1.00      0.94      0.97        18\n",
      "        AMTT       1.00      1.00      1.00        19\n",
      "        DATP       1.00      1.00      1.00        19\n",
      "        LNAP       1.00      1.00      1.00        23\n",
      "        DOPA       1.00      1.00      1.00        17\n",
      "        DEIN       1.00      1.00      1.00        19\n",
      "        CLST       0.95      0.95      0.95        22\n",
      "        AVMM       0.94      0.94      0.94        16\n",
      "        IBST       0.97      1.00      0.99        35\n",
      "        PCAD       1.00      0.93      0.97        15\n",
      "        DCCM       0.82      0.88      0.85        16\n",
      "        WRDE       1.00      1.00      1.00        23\n",
      "        TBAS       1.00      1.00      1.00        13\n",
      "        GUAR       1.00      1.00      1.00        29\n",
      "        CDAA       1.00      1.00      1.00        17\n",
      "        DCRR       0.96      1.00      0.98        25\n",
      "        DRLC       0.94      1.00      0.97        16\n",
      "        ALRT       0.94      0.76      0.84        21\n",
      "        CLPK       0.77      0.89      0.83        19\n",
      "        COGS       0.97      0.91      0.94        33\n",
      "        CFOF       1.00      1.00      1.00        21\n",
      "        PRET       1.00      1.00      1.00        18\n",
      "        PSPT       0.92      0.79      0.85        14\n",
      "        LW9F       0.95      1.00      0.97        19\n",
      "        DRPV       1.00      0.92      0.96        25\n",
      "        VOIC       0.78      0.93      0.85        15\n",
      "        LNDB       1.00      1.00      1.00        18\n",
      "        TCUW       0.71      0.91      0.80        11\n",
      "        EXTN       1.00      0.94      0.97        18\n",
      "        TPMT       1.00      1.00      1.00        18\n",
      "        DEOI       1.00      0.75      0.86        24\n",
      "        ESLT       1.00      1.00      1.00        12\n",
      "        BPOO       0.96      0.92      0.94        25\n",
      "        NOTE       1.00      0.94      0.97        17\n",
      "        PFST       0.95      1.00      0.97        18\n",
      "        DCCQ       0.72      1.00      0.84        13\n",
      "        DLAG       1.00      0.95      0.97        20\n",
      "        FTPO       1.00      0.87      0.93        23\n",
      "        VPOS       0.81      1.00      0.90        22\n",
      "        DFDC       1.00      1.00      1.00        17\n",
      "        LCIL       0.96      0.96      0.96        25\n",
      "        AENT       0.96      1.00      0.98        23\n",
      "        DBPA       0.90      0.86      0.88        21\n",
      "        NODC       0.93      0.84      0.89        32\n",
      "        KIRA       1.00      1.00      1.00        20\n",
      "        ACHF       1.00      1.00      1.00        20\n",
      "        GRDE       0.94      0.94      0.94        18\n",
      "        FERE       0.95      1.00      0.97        19\n",
      "        VMPL       0.86      1.00      0.92        18\n",
      "        APML       0.95      1.00      0.98        20\n",
      "        DFLI       0.90      0.86      0.88        21\n",
      "        PRCT       0.95      0.91      0.93        22\n",
      "\n",
      "    accuracy                           0.96      1920\n",
      "   macro avg       0.96      0.96      0.96      1920\n",
      "weighted avg       0.96      0.96      0.96      1920\n",
      "\n",
      "Confusion matrix:\n",
      " [[26  0  0 ...  0  0  0]\n",
      " [ 0 21  0 ...  0  0  0]\n",
      " [ 0  0 14 ...  0  0  0]\n",
      " ...\n",
      " [ 0  0  0 ... 20  0  0]\n",
      " [ 0  0  0 ...  0 18  0]\n",
      " [ 0  0  0 ...  0  0 20]]\n"
     ]
    },
    {
     "name": "stderr",
     "output_type": "stream",
     "text": [
      "C:\\Users\\parya\\AppData\\Local\\Temp\\ipykernel_34892\\3092329560.py:44: UserWarning: set_ticklabels() should only be used with a fixed number of ticks, i.e. after set_ticks() or using a FixedLocator.\n",
      "  ax.set_xticklabels([''] + labels)\n",
      "C:\\Users\\parya\\AppData\\Local\\Temp\\ipykernel_34892\\3092329560.py:45: UserWarning: set_ticklabels() should only be used with a fixed number of ticks, i.e. after set_ticks() or using a FixedLocator.\n",
      "  ax.set_yticklabels([''] + labels)\n"
     ]
    },
    {
     "data": {
      "image/png": "[encoded data removed]",
      "text/plain": [
       "<Figure size 640x480 with 2 Axes>"
      ]
     },
     "metadata": {},
     "output_type": "display_data"
    }
   ],
   "source": [
    "classifier = RandomForestClassifier(n_estimators=1200, random_state=1)  #defining 1000 nodes\n",
    "rf = classifier.fit(X_train, y_train)\n",
    "y_pred = classifier.predict(X_test)\n",
    "     \n",
    "\n",
    "my_tags = ['HUDD', 'BASD', 'PSGT', 'DRRF', 'PTRD', 'SSNN', 'MOGD', 'APPR',\n",
    "       'DBCK', 'CLDC', 'PWAT', 'PPRD', 'DOFA', 'POFL', 'REST', 'DTRV',\n",
    "       'DAOG', 'CPRS', 'ENRE', 'PASA', 'LRAG', 'VROD', 'TCPL', 'CTOS',\n",
    "       'PUDR', 'DOPR', 'SCOW', 'DSPS', 'MDWE', 'DFCR', 'DDLR', 'SEMR',\n",
    "       'DPMQ', 'DMRT', 'ANUT', 'LNMD', 'PRRS', 'QCDE', 'DPGR', 'SHGR',\n",
    "       'DPLR', 'SPTP', 'MSLG', 'DDDC', 'REBD', 'AMTT', 'DATP', 'LNAP',\n",
    "       'DOPA', 'DEIN', 'CLST', 'AVMM', 'IBST', 'PCAD', 'DCCM', 'WRDE',\n",
    "       'TBAS', 'GUAR', 'CDAA', 'DCRR', 'DRLC', 'ALRT', 'CLPK', 'COGS',\n",
    "       'CFOF', 'PRET', 'PSPT', 'LW9F', 'DRPV', 'VOIC', 'LNDB', 'TCUW',\n",
    "       'EXTN', 'TPMT', 'DEOI', 'ESLT', 'BPOO', 'NOTE', 'PFST', 'DCCQ',\n",
    "       'DLAG', 'FTPO', 'VPOS', 'DFDC', 'LCIL', 'AENT', 'DBPA', 'NODC',\n",
    "       'KIRA', 'ACHF', 'GRDE', 'FERE', 'VMPL', 'APML', 'DFLI', 'PRCT']\n",
    "print('Accuracy: %s' % accuracy_score(y_test, y_pred))\n",
    "print(classification_report(y_test,y_pred,target_names=my_tags))\n",
    "#print(confusion_matrix(y_test,y_pred))\n",
    "\n",
    "conf_mat = confusion_matrix(y_true=y_test, y_pred=y_pred)\n",
    "print('Confusion matrix:\\n', conf_mat)\n",
    "\n",
    "labels = ['HUDD', 'BASD', 'PSGT', 'DRRF', 'PTRD', 'SSNN', 'MOGD', 'APPR',\n",
    "       'DBCK', 'CLDC', 'PWAT', 'PPRD', 'DOFA', 'POFL', 'REST', 'DTRV',\n",
    "       'DAOG', 'CPRS', 'ENRE', 'PASA', 'LRAG', 'VROD', 'TCPL', 'CTOS',\n",
    "       'PUDR', 'DOPR', 'SCOW', 'DSPS', 'MDWE', 'DFCR', 'DDLR', 'SEMR',\n",
    "       'DPMQ', 'DMRT', 'ANUT', 'LNMD', 'PRRS', 'QCDE', 'DPGR', 'SHGR',\n",
    "       'DPLR', 'SPTP', 'MSLG', 'DDDC', 'REBD', 'AMTT', 'DATP', 'LNAP',\n",
    "       'DOPA', 'DEIN', 'CLST', 'AVMM', 'IBST', 'PCAD', 'DCCM', 'WRDE',\n",
    "       'TBAS', 'GUAR', 'CDAA', 'DCRR', 'DRLC', 'ALRT', 'CLPK', 'COGS',\n",
    "       'CFOF', 'PRET', 'PSPT', 'LW9F', 'DRPV', 'VOIC', 'LNDB', 'TCUW',\n",
    "       'EXTN', 'TPMT', 'DEOI', 'ESLT', 'BPOO', 'NOTE', 'PFST', 'DCCQ',\n",
    "       'DLAG', 'FTPO', 'VPOS', 'DFDC', 'LCIL', 'AENT', 'DBPA', 'NODC',\n",
    "       'KIRA', 'ACHF', 'GRDE', 'FERE', 'VMPL', 'APML', 'DFLI', 'PRCT']\n",
    "fig = plt.figure()\n",
    "ax = fig.add_subplot(111)\n",
    "cax = ax.matshow(conf_mat, cmap=plt.cm.Blues)\n",
    "fig.colorbar(cax)\n",
    "ax.set_xticklabels([''] + labels)\n",
    "ax.set_yticklabels([''] + labels)\n",
    "plt.xlabel('Predicted')\n",
    "plt.ylabel('Expected')\n",
    "plt.show()"
   ]
  },
  {
   "cell_type": "code",
   "execution_count": 241,
   "id": "95096380-68b6-40a2-8661-993b40cc03cf",
   "metadata": {},
   "outputs": [],
   "source": [
    "# Saving model to disk\n",
    "pickle.dump(rf, open('rfmodel.pkl','wb'))"
   ]
  },
  {
   "cell_type": "markdown",
   "id": "91b06c26-afd2-40f1-9cfb-b9c4fbe62a37",
   "metadata": {},
   "source": [
    "Naive Bayes\n"
   ]
  },
  {
   "cell_type": "code",
   "execution_count": 261,
   "id": "44ed2481-5b91-4d3e-98b5-6dc45a110fc2",
   "metadata": {},
   "outputs": [
    {
     "name": "stdout",
     "output_type": "stream",
     "text": [
      "Accuracy: 0.8973958333333333\n",
      "              precision    recall  f1-score   support\n",
      "\n",
      "        HUDD       1.00      1.00      1.00        26\n",
      "        BASD       0.90      0.86      0.88        21\n",
      "        PSGT       1.00      0.40      0.57        15\n",
      "        DRRF       0.74      1.00      0.85        17\n",
      "        PTRD       0.73      0.73      0.73        15\n",
      "        SSNN       0.91      1.00      0.95        20\n",
      "        MOGD       0.94      0.94      0.94        18\n",
      "        APPR       1.00      1.00      1.00        20\n",
      "        DBCK       0.62      0.93      0.74        14\n",
      "        CLDC       1.00      1.00      1.00        21\n",
      "        PWAT       0.92      1.00      0.96        24\n",
      "        PPRD       1.00      1.00      1.00        23\n",
      "        DOFA       1.00      1.00      1.00        20\n",
      "        POFL       1.00      0.88      0.94        17\n",
      "        REST       0.92      0.80      0.86        15\n",
      "        DTRV       0.89      0.80      0.84        20\n",
      "        DAOG       1.00      1.00      1.00        18\n",
      "        CPRS       0.75      0.47      0.58        19\n",
      "        ENRE       0.81      1.00      0.89        17\n",
      "        PASA       1.00      0.96      0.98        25\n",
      "        LRAG       0.96      1.00      0.98        23\n",
      "        VROD       1.00      1.00      1.00        18\n",
      "        TCPL       0.73      0.76      0.74        21\n",
      "        CTOS       1.00      0.92      0.96        24\n",
      "        PUDR       0.96      0.96      0.96        23\n",
      "        DOPR       0.95      0.95      0.95        19\n",
      "        SCOW       1.00      1.00      1.00        23\n",
      "        DSPS       1.00      1.00      1.00        23\n",
      "        MDWE       0.68      0.88      0.76        24\n",
      "        DFCR       1.00      1.00      1.00        22\n",
      "        DDLR       1.00      1.00      1.00        30\n",
      "        SEMR       0.85      0.55      0.67        20\n",
      "        DPMQ       0.94      1.00      0.97        15\n",
      "        DMRT       0.72      0.72      0.72        18\n",
      "        ANUT       1.00      1.00      1.00        23\n",
      "        LNMD       1.00      0.94      0.97        17\n",
      "        PRRS       0.96      1.00      0.98        23\n",
      "        QCDE       1.00      0.64      0.78        22\n",
      "        DPGR       0.79      0.90      0.84        21\n",
      "        SHGR       1.00      1.00      1.00        19\n",
      "        DPLR       0.77      0.94      0.85        18\n",
      "        SPTP       1.00      0.62      0.77        16\n",
      "        MSLG       1.00      0.47      0.64        15\n",
      "        DDDC       1.00      1.00      1.00        16\n",
      "        REBD       1.00      0.94      0.97        18\n",
      "        AMTT       1.00      1.00      1.00        19\n",
      "        DATP       0.95      1.00      0.97        19\n",
      "        LNAP       0.96      1.00      0.98        23\n",
      "        DOPA       0.89      1.00      0.94        17\n",
      "        DEIN       0.90      1.00      0.95        19\n",
      "        CLST       0.86      0.82      0.84        22\n",
      "        AVMM       0.67      1.00      0.80        16\n",
      "        IBST       0.89      0.97      0.93        35\n",
      "        PCAD       0.93      0.93      0.93        15\n",
      "        DCCM       0.75      0.94      0.83        16\n",
      "        WRDE       0.96      0.96      0.96        23\n",
      "        TBAS       0.81      1.00      0.90        13\n",
      "        GUAR       1.00      1.00      1.00        29\n",
      "        CDAA       1.00      1.00      1.00        17\n",
      "        DCRR       0.96      1.00      0.98        25\n",
      "        DRLC       0.94      1.00      0.97        16\n",
      "        ALRT       0.80      0.76      0.78        21\n",
      "        CLPK       0.61      0.58      0.59        19\n",
      "        COGS       0.93      0.79      0.85        33\n",
      "        CFOF       1.00      1.00      1.00        21\n",
      "        PRET       1.00      1.00      1.00        18\n",
      "        PSPT       0.71      0.71      0.71        14\n",
      "        LW9F       1.00      0.79      0.88        19\n",
      "        DRPV       1.00      0.92      0.96        25\n",
      "        VOIC       0.41      0.93      0.57        15\n",
      "        LNDB       1.00      1.00      1.00        18\n",
      "        TCUW       0.38      0.82      0.51        11\n",
      "        EXTN       1.00      0.67      0.80        18\n",
      "        TPMT       0.95      1.00      0.97        18\n",
      "        DEOI       1.00      0.54      0.70        24\n",
      "        ESLT       0.92      0.92      0.92        12\n",
      "        BPOO       0.90      0.76      0.83        25\n",
      "        NOTE       1.00      0.94      0.97        17\n",
      "        PFST       1.00      0.94      0.97        18\n",
      "        DCCQ       0.50      0.77      0.61        13\n",
      "        DLAG       1.00      0.85      0.92        20\n",
      "        FTPO       0.90      0.83      0.86        23\n",
      "        VPOS       0.85      1.00      0.92        22\n",
      "        DFDC       1.00      0.94      0.97        17\n",
      "        LCIL       1.00      0.96      0.98        25\n",
      "        AENT       0.88      1.00      0.94        23\n",
      "        DBPA       1.00      0.81      0.89        21\n",
      "        NODC       0.85      0.69      0.76        32\n",
      "        KIRA       0.91      1.00      0.95        20\n",
      "        ACHF       1.00      0.90      0.95        20\n",
      "        GRDE       0.80      0.89      0.84        18\n",
      "        FERE       0.90      1.00      0.95        19\n",
      "        VMPL       1.00      1.00      1.00        18\n",
      "        APML       0.86      0.95      0.90        20\n",
      "        DFLI       1.00      0.86      0.92        21\n",
      "        PRCT       0.94      0.77      0.85        22\n",
      "\n",
      "    accuracy                           0.90      1920\n",
      "   macro avg       0.91      0.89      0.89      1920\n",
      "weighted avg       0.91      0.90      0.90      1920\n",
      "\n",
      "Confusion matrix:\n",
      " [[26  0  0 ...  0  0  0]\n",
      " [ 0 18  0 ...  0  0  0]\n",
      " [ 0  0  6 ...  0  0  0]\n",
      " ...\n",
      " [ 0  0  0 ... 19  0  0]\n",
      " [ 0  0  0 ...  0 18  0]\n",
      " [ 0  0  0 ...  0  0 17]]\n"
     ]
    },
    {
     "name": "stderr",
     "output_type": "stream",
     "text": [
      "C:\\Users\\parya\\AppData\\Local\\Temp\\ipykernel_34892\\523627281.py:27: UserWarning: set_ticklabels() should only be used with a fixed number of ticks, i.e. after set_ticks() or using a FixedLocator.\n",
      "  ax.set_xticklabels([''] + labels)\n",
      "C:\\Users\\parya\\AppData\\Local\\Temp\\ipykernel_34892\\523627281.py:28: UserWarning: set_ticklabels() should only be used with a fixed number of ticks, i.e. after set_ticks() or using a FixedLocator.\n",
      "  ax.set_yticklabels([''] + labels)\n"
     ]
    },
    {
     "data": {
      "image/png": "[encoded data removed]",
      "text/plain": [
       "<Figure size 640x480 with 2 Axes>"
      ]
     },
     "metadata": {},
     "output_type": "display_data"
    }
   ],
   "source": [
    "clf = MultinomialNB().fit(X_train, y_train)\n",
    "\n",
    "y_pred = clf.predict(X_test)\n",
    "print('Accuracy: %s' % accuracy_score(y_pred, y_test))\n",
    "print(classification_report(y_test, y_pred,target_names=my_tags))\n",
    "\n",
    "conf_mat = confusion_matrix(y_true=y_test, y_pred=y_pred)\n",
    "print('Confusion matrix:\\n', conf_mat)\n",
    "\n",
    "labels = ['HUDD', 'BASD', 'PSGT', 'DRRF', 'PTRD', 'SSNN', 'MOGD', 'APPR',\n",
    "       'DBCK', 'CLDC', 'PWAT', 'PPRD', 'DOFA', 'POFL', 'REST', 'DTRV',\n",
    "       'DAOG', 'CPRS', 'ENRE', 'PASA', 'LRAG', 'VROD', 'TCPL', 'CTOS',\n",
    "       'PUDR', 'DOPR', 'SCOW', 'DSPS', 'MDWE', 'DFCR', 'DDLR', 'SEMR',\n",
    "       'DPMQ', 'DMRT', 'ANUT', 'LNMD', 'PRRS', 'QCDE', 'DPGR', 'SHGR',\n",
    "       'DPLR', 'SPTP', 'MSLG', 'DDDC', 'REBD', 'AMTT', 'DATP', 'LNAP',\n",
    "       'DOPA', 'DEIN', 'CLST', 'AVMM', 'IBST', 'PCAD', 'DCCM', 'WRDE',\n",
    "       'TBAS', 'GUAR', 'CDAA', 'DCRR', 'DRLC', 'ALRT', 'CLPK', 'COGS',\n",
    "       'CFOF', 'PRET', 'PSPT', 'LW9F', 'DRPV', 'VOIC', 'LNDB', 'TCUW',\n",
    "       'EXTN', 'TPMT', 'DEOI', 'ESLT', 'BPOO', 'NOTE', 'PFST', 'DCCQ',\n",
    "       'DLAG', 'FTPO', 'VPOS', 'DFDC', 'LCIL', 'AENT', 'DBPA', 'NODC',\n",
    "       'KIRA', 'ACHF', 'GRDE', 'FERE', 'VMPL', 'APML', 'DFLI', 'PRCT']\n",
    "fig = plt.figure()\n",
    "ax = fig.add_subplot(111)\n",
    "cax = ax.matshow(conf_mat, cmap=plt.cm.Blues)\n",
    "fig.colorbar(cax)\n",
    "ax.set_xticklabels([''] + labels)\n",
    "ax.set_yticklabels([''] + labels)\n",
    "plt.xlabel('Predicted')\n",
    "plt.ylabel('Expected')\n",
    "plt.show()"
   ]
  },
  {
   "cell_type": "code",
   "execution_count": 302,
   "id": "87e9bc41-faf5-48ee-a1f0-439c3e03c248",
   "metadata": {},
   "outputs": [],
   "source": [
    "# Saving model to disk\n",
    "pickle.dump(clf, open('naivemodel.pkl','wb'))"
   ]
  },
  {
   "cell_type": "markdown",
   "id": "b6f11246-6ec7-4485-ae12-7cd1506265a3",
   "metadata": {},
   "source": [
    "XGBoost\n"
   ]
  },
  {
   "cell_type": "code",
   "execution_count": 243,
   "id": "63c5fa49-c143-42c9-bc85-2cd69249c918",
   "metadata": {},
   "outputs": [
    {
     "name": "stdout",
     "output_type": "stream",
     "text": [
      "Accuracy: 0.9348958333333334\n",
      "              precision    recall  f1-score   support\n",
      "\n",
      "        HUDD       1.00      1.00      1.00        26\n",
      "        BASD       1.00      1.00      1.00        21\n",
      "        PSGT       0.94      1.00      0.97        15\n",
      "        DRRF       0.85      1.00      0.92        17\n",
      "        PTRD       0.87      0.87      0.87        15\n",
      "        SSNN       0.95      1.00      0.98        20\n",
      "        MOGD       0.95      1.00      0.97        18\n",
      "        APPR       0.91      1.00      0.95        20\n",
      "        DBCK       0.93      0.93      0.93        14\n",
      "        CLDC       0.95      1.00      0.98        21\n",
      "        PWAT       0.96      0.96      0.96        24\n",
      "        PPRD       1.00      0.96      0.98        23\n",
      "        DOFA       0.95      1.00      0.98        20\n",
      "        POFL       0.94      0.88      0.91        17\n",
      "        REST       0.88      1.00      0.94        15\n",
      "        DTRV       1.00      0.90      0.95        20\n",
      "        DAOG       0.94      0.89      0.91        18\n",
      "        CPRS       0.80      0.84      0.82        19\n",
      "        ENRE       0.89      1.00      0.94        17\n",
      "        PASA       1.00      1.00      1.00        25\n",
      "        LRAG       0.96      1.00      0.98        23\n",
      "        VROD       0.95      1.00      0.97        18\n",
      "        TCPL       1.00      0.86      0.92        21\n",
      "        CTOS       1.00      0.96      0.98        24\n",
      "        PUDR       1.00      0.96      0.98        23\n",
      "        DOPR       1.00      1.00      1.00        19\n",
      "        SCOW       1.00      1.00      1.00        23\n",
      "        DSPS       1.00      1.00      1.00        23\n",
      "        MDWE       0.91      0.88      0.89        24\n",
      "        DFCR       1.00      0.91      0.95        22\n",
      "        DDLR       1.00      1.00      1.00        30\n",
      "        SEMR       0.77      1.00      0.87        20\n",
      "        DPMQ       1.00      1.00      1.00        15\n",
      "        DMRT       0.82      0.78      0.80        18\n",
      "        ANUT       1.00      1.00      1.00        23\n",
      "        LNMD       1.00      0.71      0.83        17\n",
      "        PRRS       0.96      0.96      0.96        23\n",
      "        QCDE       0.95      0.95      0.95        22\n",
      "        DPGR       0.95      0.90      0.93        21\n",
      "        SHGR       1.00      0.95      0.97        19\n",
      "        DPLR       0.81      0.94      0.87        18\n",
      "        SPTP       0.86      0.75      0.80        16\n",
      "        MSLG       0.92      0.80      0.86        15\n",
      "        DDDC       1.00      1.00      1.00        16\n",
      "        REBD       1.00      0.94      0.97        18\n",
      "        AMTT       1.00      0.95      0.97        19\n",
      "        DATP       0.95      1.00      0.97        19\n",
      "        LNAP       0.96      1.00      0.98        23\n",
      "        DOPA       1.00      1.00      1.00        17\n",
      "        DEIN       0.90      1.00      0.95        19\n",
      "        CLST       0.95      0.91      0.93        22\n",
      "        AVMM       0.94      0.94      0.94        16\n",
      "        IBST       1.00      1.00      1.00        35\n",
      "        PCAD       1.00      0.93      0.97        15\n",
      "        DCCM       0.72      0.81      0.76        16\n",
      "        WRDE       0.88      1.00      0.94        23\n",
      "        TBAS       0.93      1.00      0.96        13\n",
      "        GUAR       1.00      1.00      1.00        29\n",
      "        CDAA       1.00      1.00      1.00        17\n",
      "        DCRR       1.00      0.96      0.98        25\n",
      "        DRLC       0.94      1.00      0.97        16\n",
      "        ALRT       0.88      0.71      0.79        21\n",
      "        CLPK       0.70      0.74      0.72        19\n",
      "        COGS       0.97      0.94      0.95        33\n",
      "        CFOF       0.95      1.00      0.98        21\n",
      "        PRET       1.00      0.94      0.97        18\n",
      "        PSPT       1.00      0.79      0.88        14\n",
      "        LW9F       0.86      1.00      0.93        19\n",
      "        DRPV       0.96      0.92      0.94        25\n",
      "        VOIC       0.65      0.87      0.74        15\n",
      "        LNDB       1.00      1.00      1.00        18\n",
      "        TCUW       0.83      0.91      0.87        11\n",
      "        EXTN       0.94      0.94      0.94        18\n",
      "        TPMT       0.95      1.00      0.97        18\n",
      "        DEOI       0.81      0.71      0.76        24\n",
      "        ESLT       0.92      1.00      0.96        12\n",
      "        BPOO       0.96      0.96      0.96        25\n",
      "        NOTE       1.00      0.94      0.97        17\n",
      "        PFST       1.00      1.00      1.00        18\n",
      "        DCCQ       0.76      1.00      0.87        13\n",
      "        DLAG       0.95      0.90      0.92        20\n",
      "        FTPO       1.00      0.83      0.90        23\n",
      "        VPOS       0.88      0.95      0.91        22\n",
      "        DFDC       1.00      0.94      0.97        17\n",
      "        LCIL       0.92      0.96      0.94        25\n",
      "        AENT       0.96      0.96      0.96        23\n",
      "        DBPA       0.95      0.86      0.90        21\n",
      "        NODC       0.96      0.69      0.80        32\n",
      "        KIRA       1.00      1.00      1.00        20\n",
      "        ACHF       0.95      0.95      0.95        20\n",
      "        GRDE       0.93      0.78      0.85        18\n",
      "        FERE       0.79      1.00      0.88        19\n",
      "        VMPL       0.90      1.00      0.95        18\n",
      "        APML       0.86      0.90      0.88        20\n",
      "        DFLI       0.85      0.81      0.83        21\n",
      "        PRCT       0.86      0.86      0.86        22\n",
      "\n",
      "    accuracy                           0.93      1920\n",
      "   macro avg       0.93      0.93      0.93      1920\n",
      "weighted avg       0.94      0.93      0.93      1920\n",
      "\n",
      "Confusion matrix:\n",
      " [[26  0  0 ...  0  0  0]\n",
      " [ 0 21  0 ...  0  0  0]\n",
      " [ 0  0 15 ...  0  0  0]\n",
      " ...\n",
      " [ 0  0  0 ... 18  0  0]\n",
      " [ 0  0  0 ...  1 17  0]\n",
      " [ 0  0  0 ...  0  0 19]]\n"
     ]
    },
    {
     "name": "stderr",
     "output_type": "stream",
     "text": [
      "C:\\Users\\parya\\AppData\\Local\\Temp\\ipykernel_34892\\839389655.py:30: UserWarning: set_ticklabels() should only be used with a fixed number of ticks, i.e. after set_ticks() or using a FixedLocator.\n",
      "  ax.set_xticklabels([''] + labels)\n",
      "C:\\Users\\parya\\AppData\\Local\\Temp\\ipykernel_34892\\839389655.py:31: UserWarning: set_ticklabels() should only be used with a fixed number of ticks, i.e. after set_ticks() or using a FixedLocator.\n",
      "  ax.set_yticklabels([''] + labels)\n"
     ]
    },
    {
     "data": {
      "image/png": "[encoded data removed]",
      "text/plain": [
       "<Figure size 640x480 with 2 Axes>"
      ]
     },
     "metadata": {},
     "output_type": "display_data"
    }
   ],
   "source": [
    "xgb = XGBClassifier()\n",
    "xgb.fit(X_train, y_train)\n",
    "y_pred = xgb.predict(X_test)\n",
    "\n",
    "accuracy = accuracy_score(y_test, y_pred)\n",
    "print(\"Accuracy: %s\" % (accuracy))\n",
    "print(classification_report(y_test, y_pred,target_names=my_tags))\n",
    "\n",
    "conf_mat = confusion_matrix(y_true=y_test, y_pred=y_pred)\n",
    "print('Confusion matrix:\\n', conf_mat)\n",
    "\n",
    "labels = ['HUDD', 'BASD', 'PSGT', 'DRRF', 'PTRD', 'SSNN', 'MOGD', 'APPR',\n",
    "       'DBCK', 'CLDC', 'PWAT', 'PPRD', 'DOFA', 'POFL', 'REST', 'DTRV',\n",
    "       'DAOG', 'CPRS', 'ENRE', 'PASA', 'LRAG', 'VROD', 'TCPL', 'CTOS',\n",
    "       'PUDR', 'DOPR', 'SCOW', 'DSPS', 'MDWE', 'DFCR', 'DDLR', 'SEMR',\n",
    "       'DPMQ', 'DMRT', 'ANUT', 'LNMD', 'PRRS', 'QCDE', 'DPGR', 'SHGR',\n",
    "       'DPLR', 'SPTP', 'MSLG', 'DDDC', 'REBD', 'AMTT', 'DATP', 'LNAP',\n",
    "       'DOPA', 'DEIN', 'CLST', 'AVMM', 'IBST', 'PCAD', 'DCCM', 'WRDE',\n",
    "       'TBAS', 'GUAR', 'CDAA', 'DCRR', 'DRLC', 'ALRT', 'CLPK', 'COGS',\n",
    "       'CFOF', 'PRET', 'PSPT', 'LW9F', 'DRPV', 'VOIC', 'LNDB', 'TCUW',\n",
    "       'EXTN', 'TPMT', 'DEOI', 'ESLT', 'BPOO', 'NOTE', 'PFST', 'DCCQ',\n",
    "       'DLAG', 'FTPO', 'VPOS', 'DFDC', 'LCIL', 'AENT', 'DBPA', 'NODC',\n",
    "       'KIRA', 'ACHF', 'GRDE', 'FERE', 'VMPL', 'APML', 'DFLI', 'PRCT']\n",
    "fig = plt.figure()\n",
    "ax = fig.add_subplot(111)\n",
    "cax = ax.matshow(conf_mat, cmap=plt.cm.Blues)\n",
    "fig.colorbar(cax)\n",
    "ax.set_xticklabels([''] + labels)\n",
    "ax.set_yticklabels([''] + labels)\n",
    "plt.xlabel('Predicted')\n",
    "plt.ylabel('Expected')\n",
    "plt.show()"
   ]
  },
  {
   "cell_type": "code",
   "execution_count": 263,
   "id": "c2d63d72-8f48-4e7c-a74d-29334b9f14c8",
   "metadata": {},
   "outputs": [],
   "source": [
    "pickle.dump(xgb, open('xgbmodel.pkl','wb'))"
   ]
  },
  {
   "cell_type": "markdown",
   "id": "f275aee1-bb5f-47db-8b18-10d964339d1f",
   "metadata": {},
   "source": [
    "Lets try the model\n"
   ]
  },
  {
   "cell_type": "code",
   "execution_count": 4,
   "id": "8a4d1ab3",
   "metadata": {},
   "outputs": [
    {
     "name": "stdout",
     "output_type": "stream",
     "text": [
      "Collecting pypickle\n",
      "  Downloading pypickle-1.1.0-py3-none-any.whl.metadata (2.9 kB)\n",
      "Downloading pypickle-1.1.0-py3-none-any.whl (5.1 kB)\n",
      "Installing collected packages: pypickle\n",
      "Successfully installed pypickle-1.1.0\n"
     ]
    },
    {
     "name": "stderr",
     "output_type": "stream",
     "text": [
      "\n",
      "[notice] A new release of pip is available: 24.0 -> 24.1.1\n",
      "[notice] To update, run: C:\\Users\\DELL\\AppData\\Local\\Programs\\Python\\Python312\\python.exe -m pip install --upgrade pip\n"
     ]
    }
   ],
   "source": [
    "!pip install pypickle"
   ]
  },
  {
   "cell_type": "code",
   "execution_count": 5,
   "id": "1a2c0410",
   "metadata": {},
   "outputs": [],
   "source": [
    "import pickle"
   ]
  },
  {
   "cell_type": "code",
   "execution_count": 7,
   "id": "f922d930-d5e5-4b4e-a930-4124ee71345a",
   "metadata": {},
   "outputs": [
    {
     "name": "stderr",
     "output_type": "stream",
     "text": [
      "c:\\Users\\DELL\\AppData\\Local\\Programs\\Python\\Python310\\lib\\site-packages\\sklearn\\base.py:376: InconsistentVersionWarning: Trying to unpickle estimator LogisticRegression from version 1.5.1 when using version 1.5.0. This might lead to breaking code or invalid results. Use at your own risk. For more info please refer to:\n",
      "https://scikit-learn.org/stable/model_persistence.html#security-maintainability-limitations\n",
      "  warnings.warn(\n",
      "c:\\Users\\DELL\\AppData\\Local\\Programs\\Python\\Python310\\lib\\site-packages\\sklearn\\base.py:376: InconsistentVersionWarning: Trying to unpickle estimator MultinomialNB from version 1.5.1 when using version 1.5.0. This might lead to breaking code or invalid results. Use at your own risk. For more info please refer to:\n",
      "https://scikit-learn.org/stable/model_persistence.html#security-maintainability-limitations\n",
      "  warnings.warn(\n"
     ]
    }
   ],
   "source": [
    "# rfmodel = pickle.load(open('rfmodel.pkl','rb'))\n",
    "xgbmodel = pickle.load(open('xgbmodel.pkl','rb'))\n",
    "naivemodel = pickle.load(open('naivemodel.pkl','rb'))"
   ]
  },
  {
   "cell_type": "code",
   "execution_count": 344,
   "id": "36320788-f84d-4b2d-be01-9b0cd3a50535",
   "metadata": {},
   "outputs": [],
   "source": [
    "test_data = \"help contact welcome back riot kashmir login settings preferences manage pin massmutual dashboard logo dashboard putting money rolling moving money around balance transfers investment selection taking money out loans everything else form account balances account summary benefit estimates calculators forms investment performance research pending transactions personal info plan highlights statement account statementsrequired disclosures testing schedule account statement account gain capital holdings inc plan statement account available period one year length the statement period must fall within two year period ending beginning date yyyy ending date yyyy change statement account period account summary investment summary source summary loan summary beginning balance contributions distributions activity investment income ending balance your account rate return period this estimated dollarweighted rate return based cash flow account the calculation assumes evenly distributed cash flow throughout applicable period your return could distorted nonperiodic transactions may differ investment option performance level timing cash flows past performance guarantee future results this statement displays activity account business days period select activity posted close business reflected statement following business day balances subject plans testing requirements your current vested balance displayed account balances page please refer statement account plan participate information may applicable benefit plans investment direction provisions asset diversification social security integration massmutual massachusetts mutual life insurance company massmutual springfield all rights reserved stay connected twitter facebook youtube linkedin site map privacy terms use account protection policy\""
   ]
  },
  {
   "cell_type": "code",
   "execution_count": 345,
   "id": "5e11a8bd-5fde-47c2-bc81-ca64cf33f873",
   "metadata": {},
   "outputs": [],
   "source": [
    "test_data = tokenize_and_lemmatize(test_data)"
   ]
  },
  {
   "cell_type": "code",
   "execution_count": 346,
   "id": "66cc18bc-9c9a-4930-8a77-648526eb3a98",
   "metadata": {},
   "outputs": [],
   "source": [
    "tfidfconverter = joblib.load('tfidf_vectorizer.pkl')\n",
    "test_data = tfidfconverter.transform([test_data]).toarray() "
   ]
  },
  {
   "cell_type": "code",
   "execution_count": 347,
   "id": "a01b4eec-7de8-4911-8027-9a665d0f9126",
   "metadata": {},
   "outputs": [],
   "source": [
    "inputs = test_data"
   ]
  },
  {
   "cell_type": "code",
   "execution_count": 348,
   "id": "4ec342d5-3cc0-4a5a-a14a-f590e165e002",
   "metadata": {},
   "outputs": [
    {
     "data": {
      "text/plain": [
       "'SSNN'"
      ]
     },
     "execution_count": 348,
     "metadata": {},
     "output_type": "execute_result"
    }
   ],
   "source": [
    "output_category = rfmodel.predict(inputs)\n",
    "output_category = (labelencoder.inverse_transform((output_category)))\n",
    "output_category"
   ]
  },
  {
   "cell_type": "code",
   "execution_count": 340,
   "id": "9a84b2e2-8586-4e1a-b279-a3d28982ae2a",
   "metadata": {},
   "outputs": [
    {
     "data": {
      "text/plain": [
       "'SCOW'"
      ]
     },
     "execution_count": 340,
     "metadata": {},
     "output_type": "execute_result"
    }
   ],
   "source": [
    "output_category = xgbmodel.predict(inputs)\n",
    "output_category = (labelencoder.inverse_transform((output_category)))\n",
    "output_category[0]"
   ]
  },
  {
   "cell_type": "code",
   "execution_count": 350,
   "id": "ba40c040-ab2e-477e-ba93-ce9fc2a6cc71",
   "metadata": {},
   "outputs": [
    {
     "data": {
      "text/plain": [
       "'PRCT'"
      ]
     },
     "execution_count": 350,
     "metadata": {},
     "output_type": "execute_result"
    }
   ],
   "source": [
    "output_category = naivemodel.predict(inputs)\n",
    "output_category = (labelencoder.inverse_transform((output_category)))\n",
    "output_category[0]"
   ]
  },
  {
   "cell_type": "code",
   "execution_count": 305,
   "id": "2c0e75de-13c8-4a49-8602-0e166d833d7b",
   "metadata": {},
   "outputs": [
    {
     "name": "stdout",
     "output_type": "stream",
     "text": [
      "Accuracy: 0.9192708333333334\n",
      "Classification Report:\n",
      "              precision    recall  f1-score   support\n",
      "\n",
      "        HUDD       1.00      1.00      1.00        26\n",
      "        BASD       0.91      1.00      0.95        21\n",
      "        PSGT       1.00      0.67      0.80        15\n",
      "        DRRF       0.89      1.00      0.94        17\n",
      "        PTRD       0.86      0.80      0.83        15\n",
      "        SSNN       0.91      1.00      0.95        20\n",
      "        MOGD       1.00      0.94      0.97        18\n",
      "        APPR       1.00      1.00      1.00        20\n",
      "        DBCK       0.74      1.00      0.85        14\n",
      "        CLDC       1.00      1.00      1.00        21\n",
      "        PWAT       0.92      1.00      0.96        24\n",
      "        PPRD       1.00      0.96      0.98        23\n",
      "        DOFA       1.00      1.00      1.00        20\n",
      "        POFL       1.00      0.94      0.97        17\n",
      "        REST       1.00      0.80      0.89        15\n",
      "        DTRV       0.86      0.95      0.90        20\n",
      "        DAOG       1.00      0.78      0.88        18\n",
      "        CPRS       0.75      0.47      0.58        19\n",
      "        ENRE       1.00      1.00      1.00        17\n",
      "        PASA       1.00      0.96      0.98        25\n",
      "        LRAG       0.96      1.00      0.98        23\n",
      "        VROD       1.00      1.00      1.00        18\n",
      "        TCPL       0.85      0.81      0.83        21\n",
      "        CTOS       1.00      0.92      0.96        24\n",
      "        PUDR       0.96      0.96      0.96        23\n",
      "        DOPR       0.86      1.00      0.93        19\n",
      "        SCOW       1.00      1.00      1.00        23\n",
      "        DSPS       1.00      1.00      1.00        23\n",
      "        MDWE       0.81      0.88      0.84        24\n",
      "        DFCR       1.00      1.00      1.00        22\n",
      "        DDLR       1.00      1.00      1.00        30\n",
      "        SEMR       0.90      0.90      0.90        20\n",
      "        DPMQ       1.00      1.00      1.00        15\n",
      "        DMRT       0.81      0.72      0.76        18\n",
      "        ANUT       1.00      1.00      1.00        23\n",
      "        LNMD       1.00      0.94      0.97        17\n",
      "        PRRS       1.00      0.96      0.98        23\n",
      "        QCDE       1.00      0.68      0.81        22\n",
      "        DPGR       0.95      0.90      0.93        21\n",
      "        SHGR       1.00      1.00      1.00        19\n",
      "        DPLR       0.83      0.83      0.83        18\n",
      "        SPTP       1.00      0.75      0.86        16\n",
      "        MSLG       0.80      0.80      0.80        15\n",
      "        DDDC       1.00      1.00      1.00        16\n",
      "        REBD       1.00      0.94      0.97        18\n",
      "        AMTT       1.00      1.00      1.00        19\n",
      "        DATP       1.00      1.00      1.00        19\n",
      "        LNAP       0.96      1.00      0.98        23\n",
      "        DOPA       1.00      1.00      1.00        17\n",
      "        DEIN       1.00      1.00      1.00        19\n",
      "        CLST       0.90      0.86      0.88        22\n",
      "        AVMM       0.70      1.00      0.82        16\n",
      "        IBST       0.90      1.00      0.95        35\n",
      "        PCAD       0.93      0.93      0.93        15\n",
      "        DCCM       0.75      0.94      0.83        16\n",
      "        WRDE       0.96      1.00      0.98        23\n",
      "        TBAS       0.93      1.00      0.96        13\n",
      "        GUAR       1.00      1.00      1.00        29\n",
      "        CDAA       1.00      1.00      1.00        17\n",
      "        DCRR       0.96      1.00      0.98        25\n",
      "        DRLC       0.94      1.00      0.97        16\n",
      "        ALRT       0.84      0.76      0.80        21\n",
      "        CLPK       0.67      0.74      0.70        19\n",
      "        COGS       0.94      0.88      0.91        33\n",
      "        CFOF       1.00      1.00      1.00        21\n",
      "        PRET       1.00      1.00      1.00        18\n",
      "        PSPT       0.65      0.79      0.71        14\n",
      "        LW9F       1.00      0.84      0.91        19\n",
      "        DRPV       1.00      0.92      0.96        25\n",
      "        VOIC       0.61      0.93      0.74        15\n",
      "        LNDB       1.00      1.00      1.00        18\n",
      "        TCUW       0.45      0.82      0.58        11\n",
      "        EXTN       1.00      0.67      0.80        18\n",
      "        TPMT       1.00      1.00      1.00        18\n",
      "        DEOI       1.00      0.54      0.70        24\n",
      "        ESLT       0.92      1.00      0.96        12\n",
      "        BPOO       0.80      0.80      0.80        25\n",
      "        NOTE       1.00      0.94      0.97        17\n",
      "        PFST       1.00      0.94      0.97        18\n",
      "        DCCQ       0.62      0.77      0.69        13\n",
      "        DLAG       0.90      0.90      0.90        20\n",
      "        FTPO       0.89      0.74      0.81        23\n",
      "        VPOS       0.90      0.86      0.88        22\n",
      "        DFDC       1.00      1.00      1.00        17\n",
      "        LCIL       0.83      1.00      0.91        25\n",
      "        AENT       0.88      1.00      0.94        23\n",
      "        DBPA       0.90      0.90      0.90        21\n",
      "        NODC       0.81      0.81      0.81        32\n",
      "        KIRA       0.95      1.00      0.98        20\n",
      "        ACHF       1.00      1.00      1.00        20\n",
      "        GRDE       0.84      0.89      0.86        18\n",
      "        FERE       0.95      1.00      0.97        19\n",
      "        VMPL       1.00      1.00      1.00        18\n",
      "        APML       0.95      0.95      0.95        20\n",
      "        DFLI       0.86      0.86      0.86        21\n",
      "        PRCT       0.82      0.82      0.82        22\n",
      "\n",
      "    accuracy                           0.92      1920\n",
      "   macro avg       0.92      0.92      0.91      1920\n",
      "weighted avg       0.93      0.92      0.92      1920\n",
      "\n",
      "Confusion matrix:\n",
      " [[26  0  0 ...  0  0  0]\n",
      " [ 0 21  0 ...  0  0  0]\n",
      " [ 0  0 10 ...  0  0  0]\n",
      " ...\n",
      " [ 0  0  0 ... 19  0  0]\n",
      " [ 0  0  0 ...  0 18  0]\n",
      " [ 0  0  0 ...  0  0 18]]\n"
     ]
    },
    {
     "name": "stderr",
     "output_type": "stream",
     "text": [
      "C:\\Users\\parya\\AppData\\Local\\Temp\\ipykernel_34892\\1093011093.py:57: UserWarning: set_ticklabels() should only be used with a fixed number of ticks, i.e. after set_ticks() or using a FixedLocator.\n",
      "  ax.set_xticklabels([''] + labels, rotation=90)\n",
      "C:\\Users\\parya\\AppData\\Local\\Temp\\ipykernel_34892\\1093011093.py:58: UserWarning: set_ticklabels() should only be used with a fixed number of ticks, i.e. after set_ticks() or using a FixedLocator.\n",
      "  ax.set_yticklabels([''] + labels)\n"
     ]
    },
    {
     "data": {
      "image/png": "[encoded data removed]",
      "text/plain": [
       "<Figure size 1000x800 with 2 Axes>"
      ]
     },
     "metadata": {},
     "output_type": "display_data"
    }
   ],
   "source": [
    "labels = ['HUDD', 'BASD', 'PSGT', 'DRRF', 'PTRD', 'SSNN', 'MOGD', 'APPR',\n",
    "       'DBCK', 'CLDC', 'PWAT', 'PPRD', 'DOFA', 'POFL', 'REST', 'DTRV',\n",
    "       'DAOG', 'CPRS', 'ENRE', 'PASA', 'LRAG', 'VROD', 'TCPL', 'CTOS',\n",
    "       'PUDR', 'DOPR', 'SCOW', 'DSPS', 'MDWE', 'DFCR', 'DDLR', 'SEMR',\n",
    "       'DPMQ', 'DMRT', 'ANUT', 'LNMD', 'PRRS', 'QCDE', 'DPGR', 'SHGR',\n",
    "       'DPLR', 'SPTP', 'MSLG', 'DDDC', 'REBD', 'AMTT', 'DATP', 'LNAP',\n",
    "       'DOPA', 'DEIN', 'CLST', 'AVMM', 'IBST', 'PCAD', 'DCCM', 'WRDE',\n",
    "       'TBAS', 'GUAR', 'CDAA', 'DCRR', 'DRLC', 'ALRT', 'CLPK', 'COGS',\n",
    "       'CFOF', 'PRET', 'PSPT', 'LW9F', 'DRPV', 'VOIC', 'LNDB', 'TCUW',\n",
    "       'EXTN', 'TPMT', 'DEOI', 'ESLT', 'BPOO', 'NOTE', 'PFST', 'DCCQ',\n",
    "       'DLAG', 'FTPO', 'VPOS', 'DFDC', 'LCIL', 'AENT', 'DBPA', 'NODC',\n",
    "       'KIRA', 'ACHF', 'GRDE', 'FERE', 'VMPL', 'APML', 'DFLI', 'PRCT']\n",
    "\n",
    "# Initialize Logistic Regression model\n",
    "logistic_model = LogisticRegression(max_iter=1000)\n",
    "\n",
    "# Train the model\n",
    "model = logistic_model.fit(X_train, y_train)\n",
    "\n",
    "# Predict on the test set\n",
    "y_pred = logistic_model.predict(X_test)\n",
    "\n",
    "# Evaluate the model\n",
    "accuracy = accuracy_score(y_test, y_pred)\n",
    "print(\"Accuracy: %s\" % (accuracy))\n",
    "print(\"Classification Report:\")\n",
    "print(classification_report(y_test, y_pred, target_names=my_tags))\n",
    "\n",
    "# Confusion matrix\n",
    "conf_mat = confusion_matrix(y_true=y_test, y_pred=y_pred)\n",
    "print('Confusion matrix:\\n', conf_mat)\n",
    "\n",
    "# Plot confusion matrix\n",
    "labels = ['HUDD', 'BASD', 'PSGT', 'DRRF', 'PTRD', 'SSNN', 'MOGD', 'APPR',\n",
    "       'DBCK', 'CLDC', 'PWAT', 'PPRD', 'DOFA', 'POFL', 'REST', 'DTRV',\n",
    "       'DAOG', 'CPRS', 'ENRE', 'PASA', 'LRAG', 'VROD', 'TCPL', 'CTOS',\n",
    "       'PUDR', 'DOPR', 'SCOW', 'DSPS', 'MDWE', 'DFCR', 'DDLR', 'SEMR',\n",
    "       'DPMQ', 'DMRT', 'ANUT', 'LNMD', 'PRRS', 'QCDE', 'DPGR', 'SHGR',\n",
    "       'DPLR', 'SPTP', 'MSLG', 'DDDC', 'REBD', 'AMTT', 'DATP', 'LNAP',\n",
    "       'DOPA', 'DEIN', 'CLST', 'AVMM', 'IBST', 'PCAD', 'DCCM', 'WRDE',\n",
    "       'TBAS', 'GUAR', 'CDAA', 'DCRR', 'DRLC', 'ALRT', 'CLPK', 'COGS',\n",
    "       'CFOF', 'PRET', 'PSPT', 'LW9F', 'DRPV', 'VOIC', 'LNDB', 'TCUW',\n",
    "       'EXTN', 'TPMT', 'DEOI', 'ESLT', 'BPOO', 'NOTE', 'PFST', 'DCCQ',\n",
    "       'DLAG', 'FTPO', 'VPOS', 'DFDC', 'LCIL', 'AENT', 'DBPA', 'NODC',\n",
    "       'KIRA', 'ACHF', 'GRDE', 'FERE', 'VMPL', 'APML', 'DFLI', 'PRCT']\n",
    "\n",
    "fig = plt.figure(figsize=(10, 8))\n",
    "ax = fig.add_subplot(111)\n",
    "cax = ax.matshow(conf_mat, cmap=plt.cm.Blues)\n",
    "fig.colorbar(cax)\n",
    "ax.set_xticklabels([''] + labels, rotation=90)\n",
    "ax.set_yticklabels([''] + labels)\n",
    "plt.xlabel('Predicted')\n",
    "plt.ylabel('Expected')\n",
    "plt.title('Confusion Matrix - Logistic Regression')\n",
    "plt.show()\n"
   ]
  },
  {
   "cell_type": "code",
   "execution_count": 308,
   "id": "397515bb-c5a0-4e7b-bbd0-186aaaf950ee",
   "metadata": {},
   "outputs": [],
   "source": [
    "pickle.dump(model, open('logmodel.pkl','wb'))"
   ]
  },
  {
   "cell_type": "code",
   "execution_count": 309,
   "id": "4cf7c34b-ee29-4df1-a89d-ad4f1189344f",
   "metadata": {},
   "outputs": [],
   "source": [
    "logisticmodel = pickle.load(open('logmodel.pkl','rb'))"
   ]
  },
  {
   "cell_type": "code",
   "execution_count": 351,
   "id": "5a412a9a-5349-4beb-87f9-e825a03e6715",
   "metadata": {},
   "outputs": [
    {
     "data": {
      "text/plain": [
       "'DRRF'"
      ]
     },
     "execution_count": 351,
     "metadata": {},
     "output_type": "execute_result"
    }
   ],
   "source": [
    "output_category = logisticmodel.predict(inputs)\n",
    "#Comment the next line if you are testing word2vec model as it doesn't require transformation\n",
    "output_category = (labelencoder.inverse_transform((output_category)))\n",
    "output_category[0]"
   ]
  },
  {
   "cell_type": "code",
   "execution_count": 312,
   "id": "1876773d-62e3-4057-ad16-549c2b330ef8",
   "metadata": {},
   "outputs": [
    {
     "name": "stdout",
     "output_type": "stream",
     "text": [
      "Accuracy: 0.9390625\n",
      "Classification Report:\n",
      "              precision    recall  f1-score   support\n",
      "\n",
      "        HUDD       1.00      1.00      1.00        26\n",
      "        BASD       1.00      1.00      1.00        21\n",
      "        PSGT       1.00      0.67      0.80        15\n",
      "        DRRF       0.89      1.00      0.94        17\n",
      "        PTRD       0.87      0.87      0.87        15\n",
      "        SSNN       0.91      1.00      0.95        20\n",
      "        MOGD       1.00      1.00      1.00        18\n",
      "        APPR       1.00      1.00      1.00        20\n",
      "        DBCK       0.88      1.00      0.93        14\n",
      "        CLDC       1.00      1.00      1.00        21\n",
      "        PWAT       0.96      1.00      0.98        24\n",
      "        PPRD       1.00      0.96      0.98        23\n",
      "        DOFA       1.00      1.00      1.00        20\n",
      "        POFL       1.00      0.94      0.97        17\n",
      "        REST       0.92      0.80      0.86        15\n",
      "        DTRV       0.95      0.95      0.95        20\n",
      "        DAOG       1.00      1.00      1.00        18\n",
      "        CPRS       0.71      0.53      0.61        19\n",
      "        ENRE       1.00      1.00      1.00        17\n",
      "        PASA       1.00      1.00      1.00        25\n",
      "        LRAG       0.96      1.00      0.98        23\n",
      "        VROD       1.00      1.00      1.00        18\n",
      "        TCPL       0.85      0.81      0.83        21\n",
      "        CTOS       1.00      0.92      0.96        24\n",
      "        PUDR       1.00      0.96      0.98        23\n",
      "        DOPR       0.95      1.00      0.97        19\n",
      "        SCOW       1.00      0.96      0.98        23\n",
      "        DSPS       1.00      1.00      1.00        23\n",
      "        MDWE       0.81      0.92      0.86        24\n",
      "        DFCR       1.00      1.00      1.00        22\n",
      "        DDLR       1.00      1.00      1.00        30\n",
      "        SEMR       0.95      0.90      0.92        20\n",
      "        DPMQ       1.00      1.00      1.00        15\n",
      "        DMRT       0.87      0.72      0.79        18\n",
      "        ANUT       1.00      1.00      1.00        23\n",
      "        LNMD       1.00      0.94      0.97        17\n",
      "        PRRS       1.00      1.00      1.00        23\n",
      "        QCDE       1.00      0.68      0.81        22\n",
      "        DPGR       0.95      0.90      0.93        21\n",
      "        SHGR       1.00      1.00      1.00        19\n",
      "        DPLR       0.89      0.89      0.89        18\n",
      "        SPTP       1.00      0.81      0.90        16\n",
      "        MSLG       0.88      0.93      0.90        15\n",
      "        DDDC       1.00      1.00      1.00        16\n",
      "        REBD       1.00      0.94      0.97        18\n",
      "        AMTT       1.00      1.00      1.00        19\n",
      "        DATP       1.00      1.00      1.00        19\n",
      "        LNAP       1.00      1.00      1.00        23\n",
      "        DOPA       1.00      1.00      1.00        17\n",
      "        DEIN       1.00      1.00      1.00        19\n",
      "        CLST       1.00      0.91      0.95        22\n",
      "        AVMM       0.70      1.00      0.82        16\n",
      "        IBST       0.90      1.00      0.95        35\n",
      "        PCAD       1.00      0.93      0.97        15\n",
      "        DCCM       0.75      0.94      0.83        16\n",
      "        WRDE       1.00      1.00      1.00        23\n",
      "        TBAS       1.00      1.00      1.00        13\n",
      "        GUAR       1.00      1.00      1.00        29\n",
      "        CDAA       1.00      1.00      1.00        17\n",
      "        DCRR       0.96      1.00      0.98        25\n",
      "        DRLC       0.94      1.00      0.97        16\n",
      "        ALRT       0.80      0.76      0.78        21\n",
      "        CLPK       0.65      0.68      0.67        19\n",
      "        COGS       0.94      0.94      0.94        33\n",
      "        CFOF       1.00      1.00      1.00        21\n",
      "        PRET       1.00      1.00      1.00        18\n",
      "        PSPT       0.65      0.79      0.71        14\n",
      "        LW9F       1.00      0.84      0.91        19\n",
      "        DRPV       1.00      0.92      0.96        25\n",
      "        VOIC       0.54      0.93      0.68        15\n",
      "        LNDB       1.00      1.00      1.00        18\n",
      "        TCUW       0.47      0.82      0.60        11\n",
      "        EXTN       1.00      0.83      0.91        18\n",
      "        TPMT       1.00      1.00      1.00        18\n",
      "        DEOI       0.94      0.67      0.78        24\n",
      "        ESLT       1.00      1.00      1.00        12\n",
      "        BPOO       0.86      0.96      0.91        25\n",
      "        NOTE       1.00      0.94      0.97        17\n",
      "        PFST       1.00      1.00      1.00        18\n",
      "        DCCQ       0.75      0.92      0.83        13\n",
      "        DLAG       0.95      1.00      0.98        20\n",
      "        FTPO       1.00      0.78      0.88        23\n",
      "        VPOS       0.95      0.95      0.95        22\n",
      "        DFDC       1.00      1.00      1.00        17\n",
      "        LCIL       1.00      1.00      1.00        25\n",
      "        AENT       0.96      1.00      0.98        23\n",
      "        DBPA       0.95      0.95      0.95        21\n",
      "        NODC       0.89      0.78      0.83        32\n",
      "        KIRA       1.00      1.00      1.00        20\n",
      "        ACHF       1.00      1.00      1.00        20\n",
      "        GRDE       0.85      0.94      0.89        18\n",
      "        FERE       0.95      1.00      0.97        19\n",
      "        VMPL       1.00      1.00      1.00        18\n",
      "        APML       0.95      1.00      0.98        20\n",
      "        DFLI       0.90      0.90      0.90        21\n",
      "        PRCT       0.91      0.91      0.91        22\n",
      "\n",
      "    accuracy                           0.94      1920\n",
      "   macro avg       0.94      0.94      0.94      1920\n",
      "weighted avg       0.95      0.94      0.94      1920\n",
      "\n",
      "Confusion matrix:\n",
      " [[26  0  0 ...  0  0  0]\n",
      " [ 0 21  0 ...  0  0  0]\n",
      " [ 0  0 10 ...  0  0  0]\n",
      " ...\n",
      " [ 0  0  0 ... 20  0  0]\n",
      " [ 0  0  0 ...  0 19  0]\n",
      " [ 0  0  0 ...  0  0 20]]\n"
     ]
    },
    {
     "name": "stderr",
     "output_type": "stream",
     "text": [
      "C:\\Users\\parya\\AppData\\Local\\Temp\\ipykernel_34892\\185887344.py:59: UserWarning: set_ticklabels() should only be used with a fixed number of ticks, i.e. after set_ticks() or using a FixedLocator.\n",
      "  ax.set_xticklabels([''] + labels, rotation=90)\n",
      "C:\\Users\\parya\\AppData\\Local\\Temp\\ipykernel_34892\\185887344.py:60: UserWarning: set_ticklabels() should only be used with a fixed number of ticks, i.e. after set_ticks() or using a FixedLocator.\n",
      "  ax.set_yticklabels([''] + labels)\n"
     ]
    },
    {
     "data": {
      "image/png": "[encoded data removed]",
      "text/plain": [
       "<Figure size 1000x800 with 2 Axes>"
      ]
     },
     "metadata": {},
     "output_type": "display_data"
    }
   ],
   "source": [
    "labels = ['HUDD', 'BASD', 'PSGT', 'DRRF', 'PTRD', 'SSNN', 'MOGD', 'APPR',\n",
    "       'DBCK', 'CLDC', 'PWAT', 'PPRD', 'DOFA', 'POFL', 'REST', 'DTRV',\n",
    "       'DAOG', 'CPRS', 'ENRE', 'PASA', 'LRAG', 'VROD', 'TCPL', 'CTOS',\n",
    "       'PUDR', 'DOPR', 'SCOW', 'DSPS', 'MDWE', 'DFCR', 'DDLR', 'SEMR',\n",
    "       'DPMQ', 'DMRT', 'ANUT', 'LNMD', 'PRRS', 'QCDE', 'DPGR', 'SHGR',\n",
    "       'DPLR', 'SPTP', 'MSLG', 'DDDC', 'REBD', 'AMTT', 'DATP', 'LNAP',\n",
    "       'DOPA', 'DEIN', 'CLST', 'AVMM', 'IBST', 'PCAD', 'DCCM', 'WRDE',\n",
    "       'TBAS', 'GUAR', 'CDAA', 'DCRR', 'DRLC', 'ALRT', 'CLPK', 'COGS',\n",
    "       'CFOF', 'PRET', 'PSPT', 'LW9F', 'DRPV', 'VOIC', 'LNDB', 'TCUW',\n",
    "       'EXTN', 'TPMT', 'DEOI', 'ESLT', 'BPOO', 'NOTE', 'PFST', 'DCCQ',\n",
    "       'DLAG', 'FTPO', 'VPOS', 'DFDC', 'LCIL', 'AENT', 'DBPA', 'NODC',\n",
    "       'KIRA', 'ACHF', 'GRDE', 'FERE', 'VMPL', 'APML', 'DFLI', 'PRCT']\n",
    "\n",
    "\n",
    "\n",
    "# Initialize SVM model\n",
    "svm_model = SVC(kernel='linear')  # You can choose different kernels like 'rbf', 'poly', etc.\n",
    "\n",
    "# Train the model\n",
    "model = svm_model.fit(X_train, y_train)\n",
    "\n",
    "# Predict on the test set\n",
    "y_pred = svm_model.predict(X_test)\n",
    "\n",
    "# Evaluate the model\n",
    "accuracy = accuracy_score(y_test, y_pred)\n",
    "print(\"Accuracy: %s\" % (accuracy))\n",
    "print(\"Classification Report:\")\n",
    "print(classification_report(y_test, y_pred, target_names=my_tags))\n",
    "\n",
    "# Confusion matrix\n",
    "conf_mat = confusion_matrix(y_true=y_test, y_pred=y_pred)\n",
    "print('Confusion matrix:\\n', conf_mat)\n",
    "\n",
    "# Plot confusion matrix\n",
    "labels = ['HUDD', 'BASD', 'PSGT', 'DRRF', 'PTRD', 'SSNN', 'MOGD', 'APPR',\n",
    "       'DBCK', 'CLDC', 'PWAT', 'PPRD', 'DOFA', 'POFL', 'REST', 'DTRV',\n",
    "       'DAOG', 'CPRS', 'ENRE', 'PASA', 'LRAG', 'VROD', 'TCPL', 'CTOS',\n",
    "       'PUDR', 'DOPR', 'SCOW', 'DSPS', 'MDWE', 'DFCR', 'DDLR', 'SEMR',\n",
    "       'DPMQ', 'DMRT', 'ANUT', 'LNMD', 'PRRS', 'QCDE', 'DPGR', 'SHGR',\n",
    "       'DPLR', 'SPTP', 'MSLG', 'DDDC', 'REBD', 'AMTT', 'DATP', 'LNAP',\n",
    "       'DOPA', 'DEIN', 'CLST', 'AVMM', 'IBST', 'PCAD', 'DCCM', 'WRDE',\n",
    "       'TBAS', 'GUAR', 'CDAA', 'DCRR', 'DRLC', 'ALRT', 'CLPK', 'COGS',\n",
    "       'CFOF', 'PRET', 'PSPT', 'LW9F', 'DRPV', 'VOIC', 'LNDB', 'TCUW',\n",
    "       'EXTN', 'TPMT', 'DEOI', 'ESLT', 'BPOO', 'NOTE', 'PFST', 'DCCQ',\n",
    "       'DLAG', 'FTPO', 'VPOS', 'DFDC', 'LCIL', 'AENT', 'DBPA', 'NODC',\n",
    "       'KIRA', 'ACHF', 'GRDE', 'FERE', 'VMPL', 'APML', 'DFLI', 'PRCT']\n",
    "\n",
    "fig = plt.figure(figsize=(10, 8))\n",
    "ax = fig.add_subplot(111)\n",
    "cax = ax.matshow(conf_mat, cmap=plt.cm.Blues)\n",
    "fig.colorbar(cax)\n",
    "ax.set_xticklabels([''] + labels, rotation=90)\n",
    "ax.set_yticklabels([''] + labels)\n",
    "plt.xlabel('Predicted')\n",
    "plt.ylabel('Expected')\n",
    "plt.title('Confusion Matrix - SVM')\n",
    "plt.show()\n"
   ]
  },
  {
   "cell_type": "code",
   "execution_count": 313,
   "id": "9ffc57fc-e1d2-41da-a77e-6f5af1c47024",
   "metadata": {},
   "outputs": [],
   "source": [
    "pickle.dump(model, open('svmmodel.pkl','wb'))"
   ]
  },
  {
   "cell_type": "code",
   "execution_count": 314,
   "id": "65b3b720-b2d1-4e25-b953-dcdb59faabf8",
   "metadata": {},
   "outputs": [],
   "source": [
    "svmmodel = pickle.load(open('svmmodel.pkl','rb'))"
   ]
  },
  {
   "cell_type": "code",
   "execution_count": 352,
   "id": "bbd548cb-4bd0-42d6-a475-bb0eab91581b",
   "metadata": {},
   "outputs": [
    {
     "data": {
      "text/plain": [
       "'PSGT'"
      ]
     },
     "execution_count": 352,
     "metadata": {},
     "output_type": "execute_result"
    }
   ],
   "source": [
    "output_category = svmmodel.predict(inputs)\n",
    "#Comment the next line if you are testing word2vec model as it doesn't require transformation\n",
    "output_category = (labelencoder.inverse_transform((output_category)))\n",
    "output_category[0]"
   ]
  },
  {
   "cell_type": "code",
   "execution_count": 323,
   "id": "f849ffd6-f3a4-4c38-a02b-7de4b9f26bf0",
   "metadata": {},
   "outputs": [
    {
     "name": "stdout",
     "output_type": "stream",
     "text": [
      "Accuracy: 0.9359375\n",
      "Classification Report:\n",
      "              precision    recall  f1-score   support\n",
      "\n",
      "        HUDD       1.00      1.00      1.00        26\n",
      "        BASD       1.00      1.00      1.00        21\n",
      "        PSGT       1.00      0.73      0.85        15\n",
      "        DRRF       0.89      1.00      0.94        17\n",
      "        PTRD       0.86      0.80      0.83        15\n",
      "        SSNN       0.91      1.00      0.95        20\n",
      "        MOGD       1.00      1.00      1.00        18\n",
      "        APPR       1.00      1.00      1.00        20\n",
      "        DBCK       0.82      1.00      0.90        14\n",
      "        CLDC       1.00      1.00      1.00        21\n",
      "        PWAT       0.96      1.00      0.98        24\n",
      "        PPRD       1.00      1.00      1.00        23\n",
      "        DOFA       1.00      1.00      1.00        20\n",
      "        POFL       1.00      0.94      0.97        17\n",
      "        REST       1.00      0.80      0.89        15\n",
      "        DTRV       1.00      0.95      0.97        20\n",
      "        DAOG       1.00      1.00      1.00        18\n",
      "        CPRS       0.73      0.42      0.53        19\n",
      "        ENRE       1.00      1.00      1.00        17\n",
      "        PASA       0.96      1.00      0.98        25\n",
      "        LRAG       0.96      1.00      0.98        23\n",
      "        VROD       1.00      1.00      1.00        18\n",
      "        TCPL       0.94      0.81      0.87        21\n",
      "        CTOS       0.96      0.96      0.96        24\n",
      "        PUDR       1.00      0.96      0.98        23\n",
      "        DOPR       0.90      1.00      0.95        19\n",
      "        SCOW       0.96      1.00      0.98        23\n",
      "        DSPS       1.00      1.00      1.00        23\n",
      "        MDWE       0.74      0.96      0.84        24\n",
      "        DFCR       1.00      1.00      1.00        22\n",
      "        DDLR       1.00      1.00      1.00        30\n",
      "        SEMR       0.94      0.75      0.83        20\n",
      "        DPMQ       1.00      1.00      1.00        15\n",
      "        DMRT       0.87      0.72      0.79        18\n",
      "        ANUT       1.00      1.00      1.00        23\n",
      "        LNMD       1.00      0.94      0.97        17\n",
      "        PRRS       1.00      1.00      1.00        23\n",
      "        QCDE       1.00      0.68      0.81        22\n",
      "        DPGR       0.90      0.90      0.90        21\n",
      "        SHGR       1.00      1.00      1.00        19\n",
      "        DPLR       0.89      0.89      0.89        18\n",
      "        SPTP       1.00      0.81      0.90        16\n",
      "        MSLG       1.00      0.93      0.97        15\n",
      "        DDDC       1.00      1.00      1.00        16\n",
      "        REBD       1.00      0.94      0.97        18\n",
      "        AMTT       1.00      1.00      1.00        19\n",
      "        DATP       0.95      1.00      0.97        19\n",
      "        LNAP       1.00      1.00      1.00        23\n",
      "        DOPA       1.00      1.00      1.00        17\n",
      "        DEIN       1.00      1.00      1.00        19\n",
      "        CLST       1.00      0.91      0.95        22\n",
      "        AVMM       0.70      1.00      0.82        16\n",
      "        IBST       0.90      1.00      0.95        35\n",
      "        PCAD       0.93      0.93      0.93        15\n",
      "        DCCM       0.78      0.88      0.82        16\n",
      "        WRDE       1.00      1.00      1.00        23\n",
      "        TBAS       0.93      1.00      0.96        13\n",
      "        GUAR       1.00      1.00      1.00        29\n",
      "        CDAA       1.00      1.00      1.00        17\n",
      "        DCRR       0.96      1.00      0.98        25\n",
      "        DRLC       0.89      1.00      0.94        16\n",
      "        ALRT       0.80      0.76      0.78        21\n",
      "        CLPK       0.65      0.68      0.67        19\n",
      "        COGS       0.94      0.91      0.92        33\n",
      "        CFOF       1.00      1.00      1.00        21\n",
      "        PRET       1.00      1.00      1.00        18\n",
      "        PSPT       0.65      0.79      0.71        14\n",
      "        LW9F       0.94      0.89      0.92        19\n",
      "        DRPV       1.00      0.92      0.96        25\n",
      "        VOIC       0.61      0.93      0.74        15\n",
      "        LNDB       1.00      1.00      1.00        18\n",
      "        TCUW       0.45      0.82      0.58        11\n",
      "        EXTN       1.00      0.83      0.91        18\n",
      "        TPMT       0.95      1.00      0.97        18\n",
      "        DEOI       1.00      0.67      0.80        24\n",
      "        ESLT       1.00      0.92      0.96        12\n",
      "        BPOO       0.85      0.92      0.88        25\n",
      "        NOTE       1.00      1.00      1.00        17\n",
      "        PFST       1.00      1.00      1.00        18\n",
      "        DCCQ       0.80      0.92      0.86        13\n",
      "        DLAG       0.95      1.00      0.98        20\n",
      "        FTPO       1.00      0.78      0.88        23\n",
      "        VPOS       0.95      0.86      0.90        22\n",
      "        DFDC       1.00      1.00      1.00        17\n",
      "        LCIL       1.00      1.00      1.00        25\n",
      "        AENT       0.96      1.00      0.98        23\n",
      "        DBPA       0.95      0.95      0.95        21\n",
      "        NODC       0.84      0.81      0.83        32\n",
      "        KIRA       0.95      1.00      0.98        20\n",
      "        ACHF       1.00      1.00      1.00        20\n",
      "        GRDE       0.84      0.89      0.86        18\n",
      "        FERE       0.95      1.00      0.97        19\n",
      "        VMPL       1.00      1.00      1.00        18\n",
      "        APML       0.95      0.95      0.95        20\n",
      "        DFLI       0.90      0.90      0.90        21\n",
      "        PRCT       0.91      0.91      0.91        22\n",
      "\n",
      "    accuracy                           0.94      1920\n",
      "   macro avg       0.94      0.93      0.93      1920\n",
      "weighted avg       0.94      0.94      0.94      1920\n",
      "\n",
      "Confusion matrix:\n",
      " [[26  0  0 ...  0  0  0]\n",
      " [ 0 21  0 ...  0  0  0]\n",
      " [ 0  0 11 ...  0  0  0]\n",
      " ...\n",
      " [ 0  0  0 ... 19  0  0]\n",
      " [ 0  0  0 ...  0 19  0]\n",
      " [ 0  0  0 ...  0  0 20]]\n"
     ]
    },
    {
     "name": "stderr",
     "output_type": "stream",
     "text": [
      "C:\\Users\\parya\\AppData\\Local\\Temp\\ipykernel_34892\\3458102567.py:43: UserWarning: set_ticklabels() should only be used with a fixed number of ticks, i.e. after set_ticks() or using a FixedLocator.\n",
      "  ax.set_xticklabels([''] + labels, rotation=90)\n",
      "C:\\Users\\parya\\AppData\\Local\\Temp\\ipykernel_34892\\3458102567.py:44: UserWarning: set_ticklabels() should only be used with a fixed number of ticks, i.e. after set_ticks() or using a FixedLocator.\n",
      "  ax.set_yticklabels([''] + labels)\n"
     ]
    },
    {
     "data": {
      "image/png": "[encoded data removed]",
      "text/plain": [
       "<Figure size 1000x800 with 2 Axes>"
      ]
     },
     "metadata": {},
     "output_type": "display_data"
    }
   ],
   "source": [
    "labels = ['HUDD', 'BASD', 'PSGT', 'DRRF', 'PTRD', 'SSNN', 'MOGD', 'APPR',\n",
    "       'DBCK', 'CLDC', 'PWAT', 'PPRD', 'DOFA', 'POFL', 'REST', 'DTRV',\n",
    "       'DAOG', 'CPRS', 'ENRE', 'PASA', 'LRAG', 'VROD', 'TCPL', 'CTOS',\n",
    "       'PUDR', 'DOPR', 'SCOW', 'DSPS', 'MDWE', 'DFCR', 'DDLR', 'SEMR',\n",
    "       'DPMQ', 'DMRT', 'ANUT', 'LNMD', 'PRRS', 'QCDE', 'DPGR', 'SHGR',\n",
    "       'DPLR', 'SPTP', 'MSLG', 'DDDC', 'REBD', 'AMTT', 'DATP', 'LNAP',\n",
    "       'DOPA', 'DEIN', 'CLST', 'AVMM', 'IBST', 'PCAD', 'DCCM', 'WRDE',\n",
    "       'TBAS', 'GUAR', 'CDAA', 'DCRR', 'DRLC', 'ALRT', 'CLPK', 'COGS',\n",
    "       'CFOF', 'PRET', 'PSPT', 'LW9F', 'DRPV', 'VOIC', 'LNDB', 'TCUW',\n",
    "       'EXTN', 'TPMT', 'DEOI', 'ESLT', 'BPOO', 'NOTE', 'PFST', 'DCCQ',\n",
    "       'DLAG', 'FTPO', 'VPOS', 'DFDC', 'LCIL', 'AENT', 'DBPA', 'NODC',\n",
    "       'KIRA', 'ACHF', 'GRDE', 'FERE', 'VMPL', 'APML', 'DFLI', 'PRCT']\n",
    "\n",
    "# Initialize SGD Classifier\n",
    "sgd_model = SGDClassifier(loss='hinge', alpha=0.0001, max_iter=1000, tol=1e-3)\n",
    "\n",
    "# Train the model\n",
    "model = sgd_model.fit(X_train, y_train)\n",
    "\n",
    "# Predict on the test set\n",
    "y_pred = sgd_model.predict(X_test)\n",
    "\n",
    "# Evaluate the model\n",
    "accuracy = accuracy_score(y_test, y_pred)\n",
    "print(\"Accuracy: %s\" % (accuracy))\n",
    "print(\"Classification Report:\")\n",
    "print(classification_report(y_test, y_pred, target_names=my_tags))\n",
    "\n",
    "# Confusion matrix\n",
    "conf_mat = confusion_matrix(y_true=y_test, y_pred=y_pred)\n",
    "print('Confusion matrix:\\n', conf_mat)\n",
    "\n",
    "# Plot confusion matrix\n",
    "fig = plt.figure(figsize=(10, 8))\n",
    "ax = fig.add_subplot(111)\n",
    "cax = ax.matshow(conf_mat, cmap=plt.cm.Blues)\n",
    "fig.colorbar(cax)\n",
    "ax.set_xticklabels([''] + labels, rotation=90)\n",
    "ax.set_yticklabels([''] + labels)\n",
    "plt.xlabel('Predicted')\n",
    "plt.ylabel('Expected')\n",
    "plt.title('Confusion Matrix - SGD Classifier')\n",
    "plt.show()\n"
   ]
  },
  {
   "cell_type": "code",
   "execution_count": 324,
   "id": "fb7146f5-5e43-4996-8334-79c1df48bdc4",
   "metadata": {},
   "outputs": [],
   "source": [
    "pickle.dump(model, open('sgdmodel.pkl','wb'))"
   ]
  },
  {
   "cell_type": "code",
   "execution_count": 325,
   "id": "644199c6-2870-4740-bd60-33f5ad786dbe",
   "metadata": {},
   "outputs": [],
   "source": [
    "sgdmodel = pickle.load(open('sgdmodel.pkl','rb'))"
   ]
  },
  {
   "cell_type": "code",
   "execution_count": 353,
   "id": "f3d90719-f5b8-4cdd-91f4-c8c745ef06a4",
   "metadata": {},
   "outputs": [
    {
     "data": {
      "text/plain": [
       "'DFCR'"
      ]
     },
     "execution_count": 353,
     "metadata": {},
     "output_type": "execute_result"
    }
   ],
   "source": [
    "output_category = sgdmodel.predict(inputs)\n",
    "#Comment the next line if you are testing word2vec model as it doesn't require transformation\n",
    "output_category = (labelencoder.inverse_transform((output_category)))\n",
    "output_category[0]"
   ]
  },
  {
   "cell_type": "code",
   "execution_count": null,
   "id": "c520a93c-5e95-4c52-b5f5-6aae1245d185",
   "metadata": {},
   "outputs": [],
   "source": []
  },
  {
   "cell_type": "code",
   "execution_count": null,
   "id": "248bb752-56e3-476e-8582-85c989b81d16",
   "metadata": {},
   "outputs": [],
   "source": []
  }
 ],
 "metadata": {
  "accelerator": "GPU",
  "colab": {
   "gpuType": "T4",
   "provenance": []
  },
  "kernelspec": {
   "display_name": "Python 3 (ipykernel)",
   "language": "python",
   "name": "python3"
  },
  "language_info": {
   "codemirror_mode": {
    "name": "ipython",
    "version": 3
   },
   "file_extension": ".py",
   "mimetype": "text/x-python",
   "name": "python",
   "nbconvert_exporter": "python",
   "pygments_lexer": "ipython3",
   "version": "3.10.9"
  }
 },
 "nbformat": 4,
 "nbformat_minor": 5
}
